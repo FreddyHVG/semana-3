{
 "cells": [
  {
   "cell_type": "markdown",
   "id": "773a3bdb",
   "metadata": {},
   "source": [
    "# Clasificación de Mensajes como Spam o No Spam\n",
    "Este notebook muestra un ejemplo pequeño y comentado de cómo clasificar mensajes usando técnicas básicas de Machine Learning en Python."
   ]
  },
  {
   "cell_type": "code",
   "execution_count": null,
   "id": "6180a3bf",
   "metadata": {},
   "outputs": [],
   "source": [
    "# Importamos las bibliotecas necesarias\n",
    "import pandas as pd  # para manejar datos en formato tabular\n",
    "from sklearn.feature_extraction.text import CountVectorizer  # para convertir texto en vectores numéricos\n",
    "from sklearn.model_selection import train_test_split  # para dividir datos en entrenamiento y prueba\n",
    "from sklearn.naive_bayes import MultinomialNB  # modelo de clasificación Naive Bayes\n",
    "from sklearn.metrics import accuracy_score  # para evaluar la precisión del modelo"
   ]
  },
  {
   "cell_type": "code",
   "execution_count": null,
   "id": "5f5b177d",
   "metadata": {},
   "outputs": [],
   "source": [
    "# Creamos un pequeño dataset de ejemplo\n",
    "data = {\n",
    "    'mensaje': [\n",
    "        'Gana dinero fácil desde casa',  # spam\n",
    "        'Oferta exclusiva solo hoy',     # spam\n",
    "        'Nos vemos mañana en clase',     # no spam\n",
    "        'Tu pedido ha sido enviado',     # no spam\n",
    "        'Haz clic para ganar un iPhone', # spam\n",
    "        'Reunión a las 3pm en la oficina' # no spam\n",
    "    ],\n",
    "    'etiqueta': ['spam', 'spam', 'ham', 'ham', 'spam', 'ham']  # 'ham' significa no spam\n",
    "}\n",
    "df = pd.DataFrame(data)  # convertimos el diccionario en un DataFrame de pandas\n",
    "df"
   ]
  },
  {
   "cell_type": "code",
   "execution_count": null,
   "id": "76ab9a89",
   "metadata": {},
   "outputs": [],
   "source": [
    "# Convertimos los mensajes de texto en una matriz de conteo (frecuencia de palabras)\n",
    "vectorizador = CountVectorizer()\n",
    "X = vectorizador.fit_transform(df['mensaje'])  # X contiene los vectores numéricos de los mensajes\n",
    "y = df['etiqueta']  # y contiene las etiquetas spam o ham"
   ]
  },
  {
   "cell_type": "code",
   "execution_count": null,
   "id": "f06ffaa5",
   "metadata": {},
   "outputs": [],
   "source": [
    "# Dividimos los datos en entrenamiento (80%) y prueba (20%)\n",
    "X_train, X_test, y_train, y_test = train_test_split(X, y, test_size=0.2, random_state=42)"
   ]
  },
  {
   "cell_type": "code",
   "execution_count": null,
   "id": "eceb0115",
   "metadata": {},
   "outputs": [],
   "source": [
    "# Creamos y entrenamos el modelo Naive Bayes\n",
    "modelo = MultinomialNB()\n",
    "modelo.fit(X_train, y_train)  # entrenamiento con los datos de entrenamiento"
   ]
  },
  {
   "cell_type": "code",
   "execution_count": null,
   "id": "1e8f400e",
   "metadata": {},
   "outputs": [],
   "source": [
    "# Hacemos predicciones con los datos de prueba\n",
    "y_pred = modelo.predict(X_test)\n",
    "\n",
    "# Evaluamos el modelo comparando las etiquetas predichas con las reales\n",
    "precision = accuracy_score(y_test, y_pred)\n",
    "print(f\"Precisión del modelo: {precision * 100:.2f}%\")"
   ]
  }
 ],
 "metadata": {},
 "nbformat": 4,
 "nbformat_minor": 5
}
